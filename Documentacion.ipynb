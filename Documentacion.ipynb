{
 "cells": [
  {
   "cell_type": "markdown",
   "metadata": {},
   "source": [
    "# Uso del while\n",
    "El denominado \"while\" cuya traducción al españo, es \"mientras\" es una estructura de control de flujo que funciona en bucle, concretamente su función es repetir un codigo o una parte del mismo hasta que se cumpla una determinada condición, este bucle puede ser infinito o hasta cierta cantidad de repeticiones dependiendo si se define una variable que especifique el numero de veces que se debe repetir el bucle o no.\n",
    "Esta estructura de control se puede usar junto con otros comandos tales como \"Break\", \"if\", \"elif\", \"else\", \"for\" o \"continue\".\n",
    "\n",
    "Acontinuación se presenta un ejemplo de codigo utilizando el while junto con algunos de estos comandos\n"
   ]
  },
  {
   "cell_type": "markdown",
   "metadata": {},
   "source": [
    "## Codigo\n",
    "este codigo cumple una función similar a la de una agenda donde el usuario tiene 15 días para completar sus deberes "
   ]
  },
  {
   "cell_type": "code",
   "execution_count": 1,
   "metadata": {},
   "outputs": [],
   "source": [
    "Dias=15\n",
    "while Dias > 0:\n",
    "    if input(\"Ingrese el numero de tareas pendientes para dentro de 15 dias: \") == \"0\":\n",
    "        print(\"Felicidades has acabado tus deberes!!!\")\n",
    "        break\n",
    "    Dias=Dias-1\n",
    "    print(\"falta poco tu puedes!\")\n",
    "else:\n",
    "    print(\"oh no!, no lograste acabar en el tiempo estipulado\")"
   ]
  },
  {
   "cell_type": "markdown",
   "metadata": {},
   "source": [
    "## Explicación \n",
    "Vamos a deglozar este ejemplo parte por parte para que puedas entender mejor como funciona.\n",
    "\n",
    "### While\n",
    "como se había explicado anteriormente el \"while\" es un ciclo de repeticiones infinitas o un bucle, en este caso se esta definiendo una variable llamada \"Dias\" la cual tiene un valor de 15,con esto le indicamos al bucle que solo se puede repetir un maximo de 15 veces antes de que se interrumpa y deje de trabajar este comando, adicional a esto se le indica al \"while\" que se repita el bloque de comando que esta en su interior siempre y cuando el valor ingresado sea mayor a 0.\n",
    "\n",
    "En codigo luce de esta manera:"
   ]
  },
  {
   "cell_type": "code",
   "execution_count": null,
   "metadata": {},
   "outputs": [],
   "source": [
    "Dias=15\n",
    "while Dias > 0:\n",
    "    "
   ]
  },
  {
   "cell_type": "markdown",
   "metadata": {},
   "source": [
    "### If\n",
    "El \"if\" es una estructura condicional que como su tipo indica condiciona las acciones del codigo, en este caso lo usamos para asegurar que si se ingresa un 0 acabe con el bucle y termine de correr el codigo, se acompaña con la variable dias igualada a si misma restandole 1 para que se vaya restando de a un intento hasta llegar al dia final (el dia 15 y a su vez el numero de intentos maximos planteados) y debe ir dentro del while.\n",
    "\n",
    "En codigo se ve de la siguiente manera:\n"
   ]
  },
  {
   "cell_type": "code",
   "execution_count": null,
   "metadata": {},
   "outputs": [],
   "source": [
    "    if input(\"Ingrese el numero de tareas pendientes para dentro de 15 dias: \") == \"0\":\n",
    "        print(\"Felicidades has acabado tus deberes!!!\")\n",
    "    Dias=Dias-1"
   ]
  },
  {
   "cell_type": "markdown",
   "metadata": {},
   "source": [
    "### Break\n",
    "Este comando se usa junto con el \"If\", su funcion es detener el codigo cuando la condición impuesta por el \"If\" se cumpla, sin este el bucle seguiria funcionando aun incluso si se cumple la condicion requerida para acabar el proceso.\n",
    "\n",
    "En codigo junto con el if luce asi:"
   ]
  },
  {
   "cell_type": "code",
   "execution_count": null,
   "metadata": {},
   "outputs": [],
   "source": [
    "    if input(\"Ingrese el numero de tareas pendientes para dentro de 15 dias: \") == \"0\":\n",
    "        print(\"Felicidades has acabado tus deberes!!!\")\n",
    "        break\n",
    "    Dias=Dias-1"
   ]
  },
  {
   "cell_type": "markdown",
   "metadata": {},
   "source": [
    "### Else\n",
    "el \"else\" sirve para que el codigo realice alguna acción en caso de que no se cumpla con la condición impuesta.\n",
    "\n",
    "en codigo luce asi:"
   ]
  },
  {
   "cell_type": "code",
   "execution_count": null,
   "metadata": {},
   "outputs": [],
   "source": [
    "else:\n",
    "    print(\"oh no!, no lograste acabar en el tiempo estipulado\")"
   ]
  },
  {
   "cell_type": "markdown",
   "metadata": {},
   "source": [
    "### imput y print\n",
    "Su funcionalidad es distinta pero se complementan bastante bien, en el caso del \"imput\" se usa para ingresar valores tanto textuales como numericos y podemos agregarle un texto que indique que se necesita ingresar, en el caso del \"print\" se usa unicamente para mostrar un texto en la pantalla pero se puede usar junto con todo tipo de estructuras tanto para guiar al usuario como para mostrar algun resultado dependiendo de las condiciones o lo que sea ingresado.\n",
    "\n",
    "en codigo luce asi:"
   ]
  },
  {
   "cell_type": "code",
   "execution_count": null,
   "metadata": {},
   "outputs": [],
   "source": [
    "input(\"Ingrese el numero de tareas pendientes para dentro de 15 dias: \") == \"0\"\n",
    "print(\"Felicidades has acabado tus deberes!!!\")\n",
    "print(\"oh no!, no lograste acabar en el tiempo estipulado\")"
   ]
  }
 ],
 "metadata": {
  "kernelspec": {
   "display_name": "Python 3",
   "language": "python",
   "name": "python3"
  },
  "language_info": {
   "codemirror_mode": {
    "name": "ipython",
    "version": 3
   },
   "file_extension": ".py",
   "mimetype": "text/x-python",
   "name": "python",
   "nbconvert_exporter": "python",
   "pygments_lexer": "ipython3",
   "version": "3.12.5"
  }
 },
 "nbformat": 4,
 "nbformat_minor": 2
}
